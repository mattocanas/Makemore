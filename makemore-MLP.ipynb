{
 "cells": [
  {
   "cell_type": "code",
   "execution_count": null,
   "id": "62850ea4",
   "metadata": {},
   "outputs": [],
   "source": [
    "# re-building our training set"
   ]
  },
  {
   "cell_type": "code",
   "execution_count": 1,
   "id": "25229c2a",
   "metadata": {},
   "outputs": [],
   "source": [
    "import torch\n",
    "import torch.nn.functional as F\n",
    "import matplotlib.pyplot as plt #for making figures\n",
    "%matplotlib inline"
   ]
  },
  {
   "cell_type": "code",
   "execution_count": 2,
   "id": "303c41b7",
   "metadata": {},
   "outputs": [
    {
     "data": {
      "text/plain": [
       "['emma', 'olivia', 'ava', 'isabella', 'sophia', 'charlotte', 'mia', 'amelia']"
      ]
     },
     "execution_count": 2,
     "metadata": {},
     "output_type": "execute_result"
    }
   ],
   "source": [
    "# read in all the words\n",
    "words = open('names.txt', 'r').read().splitlines()\n",
    "words[:8]"
   ]
  },
  {
   "cell_type": "code",
   "execution_count": null,
   "id": "a8446708",
   "metadata": {},
   "outputs": [],
   "source": [
    "len(words)"
   ]
  },
  {
   "cell_type": "code",
   "execution_count": 3,
   "id": "9bfe134e",
   "metadata": {},
   "outputs": [
    {
     "name": "stdout",
     "output_type": "stream",
     "text": [
      "{1: 'a', 2: 'b', 3: 'c', 4: 'd', 5: 'e', 6: 'f', 7: 'g', 8: 'h', 9: 'i', 10: 'j', 11: 'k', 12: 'l', 13: 'm', 14: 'n', 15: 'o', 16: 'p', 17: 'q', 18: 'r', 19: 's', 20: 't', 21: 'u', 22: 'v', 23: 'w', 24: 'x', 25: 'y', 26: 'z', 0: '.'}\n"
     ]
    }
   ],
   "source": [
    "# build the vocabulary of characters and mappings to/from integers\n",
    "chars = sorted(list(set(''.join(words))))\n",
    "stoi = {s:i+1 for i,s in enumerate(chars)}\n",
    "stoi['.'] = 0\n",
    "itos = {i:s for s,i in stoi.items()}\n",
    "print(itos)"
   ]
  },
  {
   "cell_type": "code",
   "execution_count": null,
   "id": "b480b779-2a53-4c2a-a2c9-ae6de3be3153",
   "metadata": {},
   "outputs": [],
   "source": [
    "# build the dataset\n",
    "\n",
    "block_size = 3 #context length : how many characters do we take to predict the next one? Given the previous 3 chars, what is the next one?\n",
    "X, Y = [], []\n",
    "\n",
    "for w in words:\n",
    "    \n",
    "    # print(w)\n",
    "    context = [0] * block_size\n",
    "    for ch in w + '.':\n",
    "        ix = stoi[ch]\n",
    "        X.append(context)\n",
    "        Y.append(ix)\n",
    "        # print(''.join(itos[i] for i in context) ,'---->', itos[ix])\n",
    "        context = context[1:] + [ix] # crop and append. gets ride of the first value in context array, and adds the next character\n",
    "X = torch.tensor(X)\n",
    "Y = torch.tensor(Y)"
   ]
  },
  {
   "cell_type": "code",
   "execution_count": null,
   "id": "0a0cc5c6-3c23-4e61-bf93-410a1c21bb65",
   "metadata": {},
   "outputs": [],
   "source": [
    "X #essentially all the context for all the words"
   ]
  },
  {
   "cell_type": "code",
   "execution_count": null,
   "id": "60662977-0842-4cb2-a682-eca052ef2e22",
   "metadata": {},
   "outputs": [],
   "source": [
    "Y #all of the labels for all of the chars in all of the words"
   ]
  },
  {
   "cell_type": "code",
   "execution_count": null,
   "id": "2f4bb8c1-475c-4473-9a2a-0a3a33a4b982",
   "metadata": {},
   "outputs": [],
   "source": [
    "# Now we willl write a neural network that should take in all the X's and then predict the Y's"
   ]
  },
  {
   "cell_type": "code",
   "execution_count": 4,
   "id": "0cb0885d-a68e-44b8-bfd6-fc14e94aa3fc",
   "metadata": {},
   "outputs": [
    {
     "name": "stdout",
     "output_type": "stream",
     "text": [
      "torch.Size([182625, 3]) torch.Size([182625])\n",
      "torch.Size([22655, 3]) torch.Size([22655])\n",
      "torch.Size([22866, 3]) torch.Size([22866])\n"
     ]
    }
   ],
   "source": [
    "# build the dataset\n",
    "block_size = 3 # context length: how many characters do we take to predict the next one?\n",
    "\n",
    "def build_dataset(words):  \n",
    "  X, Y = [], []\n",
    "  for w in words:\n",
    "\n",
    "    #print(w)\n",
    "    context = [0] * block_size\n",
    "    for ch in w + '.':\n",
    "      ix = stoi[ch]\n",
    "      X.append(context)\n",
    "      Y.append(ix)\n",
    "      #print(''.join(itos[i] for i in context), '--->', itos[ix])\n",
    "      context = context[1:] + [ix] # crop and append\n",
    "\n",
    "  X = torch.tensor(X)\n",
    "  Y = torch.tensor(Y)\n",
    "  print(X.shape, Y.shape)\n",
    "  return X, Y\n",
    "\n",
    "import random\n",
    "random.seed(42)\n",
    "random.shuffle(words)\n",
    "n1 = int(0.8*len(words))\n",
    "n2 = int(0.9*len(words))\n",
    "\n",
    "Xtr, Ytr = build_dataset(words[:n1])\n",
    "Xdev, Ydev = build_dataset(words[n1:n2])\n",
    "Xte, Yte = build_dataset(words[n2:])"
   ]
  },
  {
   "cell_type": "code",
   "execution_count": 5,
   "id": "3195394e-0256-4963-9810-287b39900d21",
   "metadata": {},
   "outputs": [],
   "source": [
    "C = torch.randn((27,2)) #essentially squeezing our 27 different characters into a 2 dimensional space. so each character has a 2D \"embedding\""
   ]
  },
  {
   "cell_type": "code",
   "execution_count": null,
   "id": "28268e5a-3115-4aac-857d-597651ca3395",
   "metadata": {},
   "outputs": [],
   "source": [
    "C"
   ]
  },
  {
   "cell_type": "code",
   "execution_count": 9,
   "id": "27ca152f-947b-462c-8072-4c7d204cbe7b",
   "metadata": {},
   "outputs": [
    {
     "data": {
      "text/plain": [
       "torch.Size([182625, 3, 2])"
      ]
     },
     "execution_count": 9,
     "metadata": {},
     "output_type": "execute_result"
    }
   ],
   "source": [
    "# embed our inputs into C. i would watch this part of the video again\n",
    "emb = C[Xtr]\n",
    "emb.shape"
   ]
  },
  {
   "cell_type": "code",
   "execution_count": 10,
   "id": "8152442b-e3cc-4b78-888c-aca07278915c",
   "metadata": {},
   "outputs": [],
   "source": [
    "W1 = torch.randn((6,100)) #weights. number of inputs it 3*2 bc we have 3 chars being embedded in 2 dimension. 100 neurons (up to us)\n",
    "b1 = torch.randn(100) #biases. random-- up to us\n",
    "\n",
    "# using this, we want to start our neural net using something along the lines of:\n",
    "# emb @ W1 +b1, but emb is 32x3x2 and W1 is 36x6 so we cant muultiplt them"
   ]
  },
  {
   "cell_type": "code",
   "execution_count": null,
   "id": "77bc14be-6cf1-42ff-8dbe-c32d4aeef7e1",
   "metadata": {},
   "outputs": [],
   "source": [
    "torch.cat([emb[:,0,:], emb[:,1,:], emb[:,2,:]],1).shape\n",
    "# this line takes our embedded inputs takes each of the 3 middle dimensions separately, and concatenates them along the first dimension so they add up to 6"
   ]
  },
  {
   "cell_type": "code",
   "execution_count": null,
   "id": "012f5d11-0761-4d4e-849a-c23d7dc22e72",
   "metadata": {},
   "outputs": [],
   "source": [
    "torch.cat(torch.unbind(emb,1),1).shape # same thing as above, but scaled with added context"
   ]
  },
  {
   "cell_type": "code",
   "execution_count": null,
   "id": "9dada19d-adc9-4276-966b-0036c8236b73",
   "metadata": {},
   "outputs": [],
   "source": [
    "# emb.view(32,6) #same thing, but more efficient"
   ]
  },
  {
   "cell_type": "code",
   "execution_count": null,
   "id": "1b8a2a35-0683-4836-9bc5-20a3d1ea0db8",
   "metadata": {},
   "outputs": [],
   "source": [
    "# we can do initialize all our neurons\n",
    "h = torch.tanh(emb.view(-1,6) @ W1 + b1) #the -1 is pytorch inferring that we want the emb matrix to be (32,6)\n",
    "# tanh will make all the values between -1 & 1\n",
    "h"
   ]
  },
  {
   "cell_type": "code",
   "execution_count": null,
   "id": "f8279277-f6c2-4a92-9202-a2a03686e698",
   "metadata": {},
   "outputs": [],
   "source": [
    "h.shape"
   ]
  },
  {
   "cell_type": "code",
   "execution_count": 12,
   "id": "c84b1975-e157-4ff9-984e-b3593d6f462a",
   "metadata": {},
   "outputs": [],
   "source": [
    "# create the final layer\n",
    "W2 = torch.randn((100,27)) #new input is 100, and output is 27 bc we have 27 characters to choose from\n",
    "b2 = torch.randn(27)"
   ]
  },
  {
   "cell_type": "code",
   "execution_count": null,
   "id": "f447467f-88d5-4930-b85a-befc918f94ba",
   "metadata": {},
   "outputs": [],
   "source": [
    "logits = h @ W2 + b2 #outputs of the NN"
   ]
  },
  {
   "cell_type": "code",
   "execution_count": null,
   "id": "e4a2173b-59a8-4798-a342-b7287f892793",
   "metadata": {},
   "outputs": [],
   "source": [
    "logits.shape"
   ]
  },
  {
   "cell_type": "code",
   "execution_count": null,
   "id": "0e1eb860-1469-4ffa-a7c4-9064b6a677f2",
   "metadata": {},
   "outputs": [],
   "source": [
    "counts = logits.exp() #fake counts"
   ]
  },
  {
   "cell_type": "code",
   "execution_count": null,
   "id": "a9e7a9c3-2160-45c2-b0df-7b141401803c",
   "metadata": {},
   "outputs": [],
   "source": [
    "prob = counts / counts.sum(1, keepdims=True)"
   ]
  },
  {
   "cell_type": "code",
   "execution_count": null,
   "id": "a28b0695-72ce-4faa-a3ae-2bf3a8605899",
   "metadata": {},
   "outputs": [],
   "source": [
    "prob.shape"
   ]
  },
  {
   "cell_type": "code",
   "execution_count": null,
   "id": "ab5b480e-fc8d-4df8-917e-46b743dcb02f",
   "metadata": {},
   "outputs": [],
   "source": [
    "Y"
   ]
  },
  {
   "cell_type": "code",
   "execution_count": null,
   "id": "f6116294-1b28-45cd-afc6-ed9544d82b47",
   "metadata": {},
   "outputs": [],
   "source": [
    "# now we want to index into prob and find the probability assigned to the actual correct next character (which is in Y)"
   ]
  },
  {
   "cell_type": "code",
   "execution_count": null,
   "id": "f179e5d6-fc5e-465b-bd61-d63face4f316",
   "metadata": {},
   "outputs": [],
   "source": [
    "torch.arange(32)"
   ]
  },
  {
   "cell_type": "code",
   "execution_count": null,
   "id": "356e6d02-9efb-48af-a87d-2d5e6f44bfb6",
   "metadata": {},
   "outputs": [],
   "source": [
    "# prob[torch.arange(32), Y] #iterates over Y at each index and puts them in order from first char to last"
   ]
  },
  {
   "cell_type": "code",
   "execution_count": null,
   "id": "d251d232-9037-4ee2-96af-18c0600e7c9a",
   "metadata": {},
   "outputs": [],
   "source": [
    "# creat negative log likelihood loss function\n",
    "# loss = -prob[torch.arange(32), Y].log().mean()\n",
    "# loss"
   ]
  },
  {
   "cell_type": "code",
   "execution_count": null,
   "id": "7e3c69e7-8f9f-48a2-b0cf-026e0b82c437",
   "metadata": {},
   "outputs": [],
   "source": [
    "loss = F.cross_entropy(logits, Y)\n",
    "loss"
   ]
  },
  {
   "cell_type": "code",
   "execution_count": null,
   "id": "6d9e5df2-c5e2-4430-8bd3-9b5f94c3e5bc",
   "metadata": {},
   "outputs": [],
   "source": [
    "# organizing..."
   ]
  },
  {
   "cell_type": "code",
   "execution_count": 13,
   "id": "8afad78b-3247-4ceb-ae4b-e1f08d188deb",
   "metadata": {},
   "outputs": [],
   "source": [
    "parameters = [C, W1,b1,W2,b2]\n",
    "\n",
    "for p in parameters:\n",
    "    p.requires_grad = True"
   ]
  },
  {
   "cell_type": "code",
   "execution_count": 14,
   "id": "2a37f515-f9c5-48e2-9d51-c1ce0c047558",
   "metadata": {},
   "outputs": [],
   "source": [
    "# generate candidate learning rate\n",
    "lre = torch.linspace(-3,0,1000) # 1000 values between -3 and 0\n",
    "lrs = 10**lre #transforms them to numbers between -.001 and 1\n"
   ]
  },
  {
   "cell_type": "code",
   "execution_count": 15,
   "id": "13bdd8cd-4e5e-42c2-b35c-72130b7a51c0",
   "metadata": {},
   "outputs": [
    {
     "name": "stdout",
     "output_type": "stream",
     "text": [
      "2.3296730518341064\n"
     ]
    }
   ],
   "source": [
    "lri = []\n",
    "lossi = []\n",
    "for i in range(10000):  # run this 1000 times\n",
    "    \n",
    "    #minibatch construction\n",
    "    ix = torch.randint(0,Xtr.shape[0], (32,))\n",
    "\n",
    "    # Forward pass\n",
    "    emb = C[Xtr[ix]] # (32,3,2)\n",
    "    h = torch.tanh(emb.view(-1,6) @ W1 + b1) # (32,100)\n",
    "    logits = h @ W2 + b2 # (32,27)\n",
    "    loss = F.cross_entropy(logits, Ytr[ix])\n",
    "    #backward pass\n",
    "    for p in parameters:\n",
    "        p.grad = None # set gradients to 0\n",
    "    loss.backward() #set gradients\n",
    "\n",
    "    #update parameters based on gradient\n",
    "    # lr = lrs[i]\n",
    "    for p in parameters:\n",
    "        p.data += -0.1 * p.grad\n",
    "        \n",
    "    # # track stats\n",
    "    # lri.append(lre[i])\n",
    "    # lossi.append(loss.item())\n",
    "\n",
    "        \n",
    "\n",
    "print(loss.item())\n",
    "\n",
    "# low loss => good predictions!\n",
    "# but here we are overfitting becuase we have so many parameters and only 32 data points from the first 5 words\n",
    "# can go up and try again with the whole dataset"
   ]
  },
  {
   "cell_type": "code",
   "execution_count": null,
   "id": "66671e36-ba12-4b37-b457-59a07253f159",
   "metadata": {},
   "outputs": [],
   "source": [
    "plt.plot(lri,lossi)"
   ]
  },
  {
   "cell_type": "code",
   "execution_count": null,
   "id": "f2426d13-db1f-4401-93d6-69e7a7fe4d68",
   "metadata": {},
   "outputs": [],
   "source": [
    "# make batches so passes go quicker\n",
    "torch.randint(0,X.shape[0], (32,))"
   ]
  },
  {
   "cell_type": "code",
   "execution_count": 16,
   "id": "6551776a-4c55-4c61-b9b3-eaa0c22816cb",
   "metadata": {},
   "outputs": [],
   "source": [
    "# training split, dev/validation split, test split\n",
    "#80%, 10%, 10%\n",
    "# test split is used to validate performace of model AT THE END"
   ]
  },
  {
   "cell_type": "code",
   "execution_count": 18,
   "id": "02c3065e-4ca4-465d-9cd1-42fc4cb1ef68",
   "metadata": {},
   "outputs": [
    {
     "data": {
      "image/png": "[encoded data removed]",
      "text/plain": [
       "<Figure size 576x576 with 1 Axes>"
      ]
     },
     "metadata": {
      "needs_background": "light"
     },
     "output_type": "display_data"
    }
   ],
   "source": [
    "# visualize dimensions 0 and 1 of the embedding matrix C for all characters\n",
    "plt.figure(figsize=(8,8))\n",
    "plt.scatter(C[:,0].data, C[:,1].data, s=200)\n",
    "for i in range(C.shape[0]):\n",
    "    plt.text(C[i,0].item(), C[i,1].item(), itos[i], ha=\"center\", va=\"center\", color='white')\n",
    "plt.grid('minor')\n",
    "\n",
    "#notice how the NN treat a,e,i,o,u,y as very similar\n",
    "# cause they're values!"
   ]
  }
 ],
 "metadata": {
  "kernelspec": {
   "display_name": "Python 3",
   "language": "python",
   "name": "python3"
  },
  "language_info": {
   "codemirror_mode": {
    "name": "ipython",
    "version": 3
   },
   "file_extension": ".py",
   "mimetype": "text/x-python",
   "name": "python",
   "nbconvert_exporter": "python",
   "pygments_lexer": "ipython3",
   "version": "3.8.3"
  }
 },
 "nbformat": 4,
 "nbformat_minor": 5
}
